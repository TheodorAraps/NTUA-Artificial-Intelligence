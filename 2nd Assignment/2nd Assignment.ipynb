{
 "cells": [
  {
   "cell_type": "markdown",
   "id": "c49ce809",
   "metadata": {},
   "source": [
    "## Ομάδα \n",
    "\n",
    "Στοιχεία Μέλους 1: Θεόδωρος Αράπης (el18028)\n",
    "\n",
    "Στοιχεία Μέλους 2: Εμμανουήλ Βλάσσης (el18086)"
   ]
  },
  {
   "cell_type": "markdown",
   "id": "fd7b37c8",
   "metadata": {},
   "source": [
    "## Μέρος 1\n",
    "### Ερώτημα 1α"
   ]
  },
  {
   "cell_type": "code",
   "execution_count": 1,
   "id": "0833c9ea",
   "metadata": {},
   "outputs": [],
   "source": [
    "import pandas as pd\n",
    "from pyswip import Prolog"
   ]
  },
  {
   "cell_type": "code",
   "execution_count": 2,
   "id": "6f0688e3",
   "metadata": {},
   "outputs": [
    {
     "data": {
      "text/html": [
       "<div>\n",
       "<style scoped>\n",
       "    .dataframe tbody tr th:only-of-type {\n",
       "        vertical-align: middle;\n",
       "    }\n",
       "\n",
       "    .dataframe tbody tr th {\n",
       "        vertical-align: top;\n",
       "    }\n",
       "\n",
       "    .dataframe thead th {\n",
       "        text-align: right;\n",
       "    }\n",
       "</style>\n",
       "<table border=\"1\" class=\"dataframe\">\n",
       "  <thead>\n",
       "    <tr style=\"text-align: right;\">\n",
       "      <th></th>\n",
       "      <th>Unnamed: 0</th>\n",
       "      <th>budget</th>\n",
       "      <th>genres</th>\n",
       "      <th>homepage</th>\n",
       "      <th>id</th>\n",
       "      <th>plot_keywords</th>\n",
       "      <th>language</th>\n",
       "      <th>original_title</th>\n",
       "      <th>overview</th>\n",
       "      <th>popularity</th>\n",
       "      <th>...</th>\n",
       "      <th>tagline</th>\n",
       "      <th>movie_title</th>\n",
       "      <th>vote_average</th>\n",
       "      <th>num_voted_users</th>\n",
       "      <th>title_year</th>\n",
       "      <th>country</th>\n",
       "      <th>director_name</th>\n",
       "      <th>actor_1_name</th>\n",
       "      <th>actor_2_name</th>\n",
       "      <th>actor_3_name</th>\n",
       "    </tr>\n",
       "  </thead>\n",
       "  <tbody>\n",
       "    <tr>\n",
       "      <th>0</th>\n",
       "      <td>0</td>\n",
       "      <td>237000000</td>\n",
       "      <td>Action|Adventure|Fantasy|Science Fiction</td>\n",
       "      <td>http://www.avatarmovie.com/</td>\n",
       "      <td>19995</td>\n",
       "      <td>culture clash|future|space war|space colony|so...</td>\n",
       "      <td>English</td>\n",
       "      <td>Avatar</td>\n",
       "      <td>In the 22nd century, a paraplegic Marine is di...</td>\n",
       "      <td>150.437577</td>\n",
       "      <td>...</td>\n",
       "      <td>Enter the World of Pandora.</td>\n",
       "      <td>Avatar</td>\n",
       "      <td>7.2</td>\n",
       "      <td>11800</td>\n",
       "      <td>2009.0</td>\n",
       "      <td>United States of America</td>\n",
       "      <td>James Cameron</td>\n",
       "      <td>Zoe Saldana</td>\n",
       "      <td>Sigourney Weaver</td>\n",
       "      <td>Stephen Lang</td>\n",
       "    </tr>\n",
       "    <tr>\n",
       "      <th>1</th>\n",
       "      <td>1</td>\n",
       "      <td>300000000</td>\n",
       "      <td>Adventure|Fantasy|Action</td>\n",
       "      <td>http://disney.go.com/disneypictures/pirates/</td>\n",
       "      <td>285</td>\n",
       "      <td>ocean|drug abuse|exotic island|east india trad...</td>\n",
       "      <td>English</td>\n",
       "      <td>Pirates of the Caribbean: At World's End</td>\n",
       "      <td>Captain Barbossa, long believed to be dead, ha...</td>\n",
       "      <td>139.082615</td>\n",
       "      <td>...</td>\n",
       "      <td>At the end of the world, the adventure begins.</td>\n",
       "      <td>Pirates of the Caribbean: At World's End</td>\n",
       "      <td>6.9</td>\n",
       "      <td>4500</td>\n",
       "      <td>2007.0</td>\n",
       "      <td>United States of America</td>\n",
       "      <td>Gore Verbinski</td>\n",
       "      <td>Orlando Bloom</td>\n",
       "      <td>Keira Knightley</td>\n",
       "      <td>Stellan Skarsgård</td>\n",
       "    </tr>\n",
       "    <tr>\n",
       "      <th>2</th>\n",
       "      <td>2</td>\n",
       "      <td>245000000</td>\n",
       "      <td>Action|Adventure|Crime</td>\n",
       "      <td>http://www.sonypictures.com/movies/spectre/</td>\n",
       "      <td>206647</td>\n",
       "      <td>spy|based on novel|secret agent|sequel|mi6|bri...</td>\n",
       "      <td>Français</td>\n",
       "      <td>Spectre</td>\n",
       "      <td>A cryptic message from Bond’s past sends him o...</td>\n",
       "      <td>107.376788</td>\n",
       "      <td>...</td>\n",
       "      <td>A Plan No One Escapes</td>\n",
       "      <td>Spectre</td>\n",
       "      <td>6.3</td>\n",
       "      <td>4466</td>\n",
       "      <td>2015.0</td>\n",
       "      <td>United Kingdom</td>\n",
       "      <td>Sam Mendes</td>\n",
       "      <td>Christoph Waltz</td>\n",
       "      <td>Léa Seydoux</td>\n",
       "      <td>Ralph Fiennes</td>\n",
       "    </tr>\n",
       "    <tr>\n",
       "      <th>3</th>\n",
       "      <td>3</td>\n",
       "      <td>250000000</td>\n",
       "      <td>Action|Crime|Drama|Thriller</td>\n",
       "      <td>http://www.thedarkknightrises.com/</td>\n",
       "      <td>49026</td>\n",
       "      <td>dc comics|crime fighter|terrorist|secret ident...</td>\n",
       "      <td>English</td>\n",
       "      <td>The Dark Knight Rises</td>\n",
       "      <td>Following the death of District Attorney Harve...</td>\n",
       "      <td>112.312950</td>\n",
       "      <td>...</td>\n",
       "      <td>The Legend Ends</td>\n",
       "      <td>The Dark Knight Rises</td>\n",
       "      <td>7.6</td>\n",
       "      <td>9106</td>\n",
       "      <td>2012.0</td>\n",
       "      <td>United States of America</td>\n",
       "      <td>Christopher Nolan</td>\n",
       "      <td>Michael Caine</td>\n",
       "      <td>Gary Oldman</td>\n",
       "      <td>Anne Hathaway</td>\n",
       "    </tr>\n",
       "    <tr>\n",
       "      <th>4</th>\n",
       "      <td>4</td>\n",
       "      <td>260000000</td>\n",
       "      <td>Action|Adventure|Science Fiction</td>\n",
       "      <td>http://movies.disney.com/john-carter</td>\n",
       "      <td>49529</td>\n",
       "      <td>based on novel|mars|medallion|space travel|pri...</td>\n",
       "      <td>English</td>\n",
       "      <td>John Carter</td>\n",
       "      <td>John Carter is a war-weary, former military ca...</td>\n",
       "      <td>43.926995</td>\n",
       "      <td>...</td>\n",
       "      <td>Lost in our world, found in another.</td>\n",
       "      <td>John Carter</td>\n",
       "      <td>6.1</td>\n",
       "      <td>2124</td>\n",
       "      <td>2012.0</td>\n",
       "      <td>United States of America</td>\n",
       "      <td>Andrew Stanton</td>\n",
       "      <td>Lynn Collins</td>\n",
       "      <td>Samantha Morton</td>\n",
       "      <td>Willem Dafoe</td>\n",
       "    </tr>\n",
       "  </tbody>\n",
       "</table>\n",
       "<p>5 rows × 27 columns</p>\n",
       "</div>"
      ],
      "text/plain": [
       "   Unnamed: 0     budget                                    genres  \\\n",
       "0           0  237000000  Action|Adventure|Fantasy|Science Fiction   \n",
       "1           1  300000000                  Adventure|Fantasy|Action   \n",
       "2           2  245000000                    Action|Adventure|Crime   \n",
       "3           3  250000000               Action|Crime|Drama|Thriller   \n",
       "4           4  260000000          Action|Adventure|Science Fiction   \n",
       "\n",
       "                                       homepage      id  \\\n",
       "0                   http://www.avatarmovie.com/   19995   \n",
       "1  http://disney.go.com/disneypictures/pirates/     285   \n",
       "2   http://www.sonypictures.com/movies/spectre/  206647   \n",
       "3            http://www.thedarkknightrises.com/   49026   \n",
       "4          http://movies.disney.com/john-carter   49529   \n",
       "\n",
       "                                       plot_keywords  language  \\\n",
       "0  culture clash|future|space war|space colony|so...   English   \n",
       "1  ocean|drug abuse|exotic island|east india trad...   English   \n",
       "2  spy|based on novel|secret agent|sequel|mi6|bri...  Français   \n",
       "3  dc comics|crime fighter|terrorist|secret ident...   English   \n",
       "4  based on novel|mars|medallion|space travel|pri...   English   \n",
       "\n",
       "                             original_title  \\\n",
       "0                                    Avatar   \n",
       "1  Pirates of the Caribbean: At World's End   \n",
       "2                                   Spectre   \n",
       "3                     The Dark Knight Rises   \n",
       "4                               John Carter   \n",
       "\n",
       "                                            overview  popularity  ...  \\\n",
       "0  In the 22nd century, a paraplegic Marine is di...  150.437577  ...   \n",
       "1  Captain Barbossa, long believed to be dead, ha...  139.082615  ...   \n",
       "2  A cryptic message from Bond’s past sends him o...  107.376788  ...   \n",
       "3  Following the death of District Attorney Harve...  112.312950  ...   \n",
       "4  John Carter is a war-weary, former military ca...   43.926995  ...   \n",
       "\n",
       "                                          tagline  \\\n",
       "0                     Enter the World of Pandora.   \n",
       "1  At the end of the world, the adventure begins.   \n",
       "2                           A Plan No One Escapes   \n",
       "3                                 The Legend Ends   \n",
       "4            Lost in our world, found in another.   \n",
       "\n",
       "                                movie_title vote_average  num_voted_users  \\\n",
       "0                                    Avatar          7.2            11800   \n",
       "1  Pirates of the Caribbean: At World's End          6.9             4500   \n",
       "2                                   Spectre          6.3             4466   \n",
       "3                     The Dark Knight Rises          7.6             9106   \n",
       "4                               John Carter          6.1             2124   \n",
       "\n",
       "  title_year                   country      director_name     actor_1_name  \\\n",
       "0     2009.0  United States of America      James Cameron      Zoe Saldana   \n",
       "1     2007.0  United States of America     Gore Verbinski    Orlando Bloom   \n",
       "2     2015.0            United Kingdom         Sam Mendes  Christoph Waltz   \n",
       "3     2012.0  United States of America  Christopher Nolan    Michael Caine   \n",
       "4     2012.0  United States of America     Andrew Stanton     Lynn Collins   \n",
       "\n",
       "       actor_2_name       actor_3_name  \n",
       "0  Sigourney Weaver       Stephen Lang  \n",
       "1   Keira Knightley  Stellan Skarsgård  \n",
       "2       Léa Seydoux      Ralph Fiennes  \n",
       "3       Gary Oldman      Anne Hathaway  \n",
       "4   Samantha Morton       Willem Dafoe  \n",
       "\n",
       "[5 rows x 27 columns]"
      ]
     },
     "execution_count": 2,
     "metadata": {},
     "output_type": "execute_result"
    }
   ],
   "source": [
    "data = pd.read_csv(\"movies_metadata.csv\")\n",
    "data.fillna(\"UNK\", inplace=True)\n",
    "data.head()"
   ]
  },
  {
   "cell_type": "code",
   "execution_count": 3,
   "id": "7b2882d0",
   "metadata": {},
   "outputs": [],
   "source": [
    "def clean_text(text):\n",
    "    text = text.replace(u'\\xa0', u'')\n",
    "    text = text.replace(u\"'\", u'')\n",
    "    return text"
   ]
  },
  {
   "cell_type": "code",
   "execution_count": 4,
   "id": "969f0923",
   "metadata": {},
   "outputs": [],
   "source": [
    "import ast\n",
    "\n",
    "prolog = Prolog()\n",
    "literals = []\n",
    "movie_score = {}\n",
    "for row in data.itertuples(index=False):\n",
    "    for field in row._fields:\n",
    "        movie_title = clean_text(getattr(row, 'movie_title'))\n",
    "        if (field == \"_0\" or field == \"movie_title\"): # Αγνοούμε την πρώτη στήλη και τη στήλη movie_title (δεν θέλουμε κατηγόρημα movie_title/2)\n",
    "            continue\n",
    "        elif (field == \"genres\" or field == \"plot_keywords\"): # Σπάμε τις στήλες με στοιχεία που διαχωρίζονται με \"|\"\n",
    "            for element in getattr(row, field).split(\"|\"):\n",
    "                literals.append(str(field)+ \"('\" + movie_title + \"', '\" + clean_text(str(element)) + \"')\")\n",
    "        elif (field == \"production_companies\" or field == \"production_countries\" or field == \"spoken_languages\"): # Σπάμε τις στήλες που έχουν τη δομή dictionary (κλειδί - τιμή)\n",
    "            dic = ast.literal_eval(getattr(row, field))\n",
    "            for i in dic:\n",
    "                string = str(field)+ \"('\" + movie_title\n",
    "                for key, value in i.items():\n",
    "                    string += \"', '\" + clean_text(str(value))\n",
    "                string += \"')\"\n",
    "                literals.append(string)\n",
    "        else:\n",
    "            element = clean_text(str(getattr(row, field)))\n",
    "            if (field == \"title_year\"):\n",
    "                element = element.replace(\".0\", \"\")\n",
    "            literals.append(str(field)+ \"('\" + movie_title + \"', '\" + element + \"')\")\n",
    "literals.sort()\n",
    "with open(\"db.pl\", 'w') as f: # Προσθέτουμε όλα τα γεγονότα σε ένα αρχείο db.pl για να το έχουμε διαθέσιμο\n",
    "    for literal in literals:\n",
    "        prolog.assertz(literal)\n",
    "        f.write(literal + \".\\n\")"
   ]
  },
  {
   "cell_type": "markdown",
   "id": "55429a56",
   "metadata": {},
   "source": [
    "### Μέρος 1β\n",
    "Όλα τα κατηγορήματα που ζητούνται βρίσκονται στο αρχείο \"meros1.pl\".\n",
    "Πέρα από αυτά που ζητούνται, ορίσαμε και ορισμένα έξτρα κατηγορήματα (same_foreign_language/2, ok_movie/1, good_movie/1, great_movie/2) που χρησιμοποιήσαμε στο μέρος 3."
   ]
  },
  {
   "cell_type": "code",
   "execution_count": 5,
   "id": "6699065c",
   "metadata": {},
   "outputs": [
    {
     "name": "stdout",
     "output_type": "stream",
     "text": [
      "A Bugs Life\n",
      "A Monster in Paris\n",
      "A Simple Wish\n",
      "Aladdin\n",
      "Aliens in the Attic\n",
      "Alpha and Omega: The Legend of the Saw Tooth Cave\n",
      "Alvin and the Chipmunks\n",
      "Alvin and the Chipmunks: Chipwrecked\n",
      "Alvin and the Chipmunks: The Road Chip\n",
      "Alvin and the Chipmunks: The Squeakquel\n",
      "Antz\n",
      "Arthur and the Invisibles\n",
      "Asterix at the Olympic Games\n",
      "Babe: Pig in the City\n",
      "Batman\n",
      "Bee Movie\n",
      "Big Hero 6\n",
      "Bill & Teds Bogus Journey\n",
      "Bolt\n",
      "Brave\n",
      "Cars\n",
      "Cars 2\n",
      "Charlie and the Chocolate Factory\n",
      "Curious George\n",
      "Delgo\n",
      "Dragon Nest: Warriors Dawn\n",
      "Epic\n",
      "Escape from Planet Earth\n",
      "Fantastic Mr. Fox\n",
      "Flushed Away\n",
      "G-Force\n",
      "Happily NEver After\n",
      "Herbie Fully Loaded\n",
      "Home\n",
      "Hook\n",
      "Hotel Transylvania\n",
      "How to Train Your Dragon\n",
      "How to Train Your Dragon 2\n",
      "Ice Age\n",
      "Ice Age: Continental Drift\n",
      "Ice Age: Dawn of the Dinosaurs\n",
      "Ice Age: The Meltdown\n",
      "Jimmy Neutron: Boy Genius\n",
      "Jonah: A VeggieTales Movie\n",
      "Kung Fu Panda\n",
      "Kung Fu Panda 3\n",
      "Last Action Hero\n",
      "Legend of a Rabbit\n",
      "Legend of the Guardians: The Owls of GaHoole\n",
      "Minions\n",
      "Mirror Mirror\n",
      "Monkeybone\n",
      "Monster House\n",
      "Night at the Museum\n",
      "Night at the Museum: Battle of the Smithsonian\n",
      "Night at the Museum: Secret of the Tomb\n",
      "Nims Island\n",
      "Osmosis Jones\n",
      "ParaNorman\n",
      "Penguins of Madagascar\n",
      "Planet 51\n",
      "Pokémon: Spell of the Unknown\n",
      "Puss in Boots\n",
      "Rango\n",
      "Ratatouille\n",
      "Return to Never Land\n",
      "Rio\n",
      "Rio 2\n",
      "Rugrats in Paris: The Movie\n",
      "Sausage Party\n",
      "Shrek 2\n",
      "Shrek Forever After\n",
      "Shrek the Third\n",
      "Son of the Mask\n",
      "Space Jam\n",
      "Spirit: Stallion of the Cimarron\n",
      "Spirited Away\n",
      "Stuart Little\n",
      "Stuart Little 2\n",
      "Super Mario Bros.\n",
      "TMNT\n",
      "Teenage Mutant Ninja Turtles III\n",
      "The Adventures of Rocky & Bullwinkle\n",
      "The Ant Bully\n",
      "The Book of Life\n",
      "The Borrowers\n",
      "The Boxtrolls\n",
      "The Brave Little Toaster\n",
      "The Croods\n",
      "The Curse of the Were-Rabbit\n",
      "The Emperors New Groove\n",
      "The Iron Giant\n",
      "The Lego Movie\n",
      "The Lion of Judah\n",
      "The Nut Job\n",
      "The Pirates! In an Adventure with Scientists!\n",
      "The Polar Express\n",
      "The Princess Bride\n",
      "The Road to El Dorado\n",
      "The Smurfs\n",
      "The Smurfs 2\n",
      "The SpongeBob Movie: Sponge Out of Water\n",
      "The Thief and the Cobbler\n",
      "Thunder and the House of Magic\n",
      "Thunderbirds\n",
      "Time Bandits\n",
      "Treasure Planet\n",
      "Up\n",
      "VeggieTales: The Pirates Who Dont Do Anything\n",
      "Wreck-It Ralph\n",
      "Yogi Bear\n",
      "Zambezia\n"
     ]
    }
   ],
   "source": [
    "# Φορτώνουμε όλους τους κανόνες που φτιάξαμε\n",
    "prolog.consult(\"meros1.pl\")\n",
    "q = prolog.query(\"same_genres3('Shrek', X)\")\n",
    "for soln in q:\n",
    "    print(soln['X'])\n",
    "q.close()"
   ]
  },
  {
   "cell_type": "markdown",
   "id": "b4d7e640",
   "metadata": {},
   "source": [
    "## 2ο Μέρος: Recommendation System με βάση μόνο τα χαρακτηριστικά των ταινιών.\n",
    "Αρχικά ορίσαμε πέντε κατηγορήματα τύπου similar_X, όπου X η κλίμακα της ομοιότητας των ταινιών (που ορίζουμε εμείς). Το 5 αντιστοιχεί στις πιο όμοιες ταινίες, και το 1 αντιστοιχεί σε λιγότερο όμοιες ταινίες.\n",
    "Για το μέρος 3 ορίσαμε και έξτρα κατηγορήματα new_similar_X με κλίμακα 3 βημάτων που πετυχαίνουν λίγο καλύτερα precision και recall."
   ]
  },
  {
   "cell_type": "code",
   "execution_count": 6,
   "id": "e494bfa6",
   "metadata": {},
   "outputs": [],
   "source": [
    "import random\n",
    "prolog.consult(\"meros2.pl\")\n",
    "\n",
    "# Σημείωση: Αντικαταστήσαμε το set με list για να έχουμε σειρά προτεραιότητας και να κρατάμε πρώτα τις πιο παρόμοιες ταινίες.\n",
    "def simple_recommender(movie, scale = 1):\n",
    "    s = list()\n",
    "    q = prolog.query(\"new_similar_\" + str(scale) + \"('\" + movie +\"',M)\")\n",
    "    for soln in q:\n",
    "        m = soln['M'] \n",
    "        s.append(soln['M'])\n",
    "    q.close()\n",
    "    # random.shuffle(s) # Αν θέλουμε να προτείνουμε κάθε φορά τυχαίες ταινίες, μπορούμε να ανακατεύουμε τυχαία τη λίστα πριν την επιστρέψουμε.\n",
    "    answers = list(dict.fromkeys(s))\n",
    "    return answers"
   ]
  },
  {
   "cell_type": "code",
   "execution_count": 7,
   "id": "c1609fe0",
   "metadata": {},
   "outputs": [
    {
     "data": {
      "text/plain": [
       "['22 Jump Street',\n",
       " 'Anchorman: The Legend of Ron Burgundy',\n",
       " 'Ant-Man',\n",
       " 'Austin Powers: International Man of Mystery',\n",
       " 'Austin Powers: The Spy Who Shagged Me']"
      ]
     },
     "execution_count": 7,
     "metadata": {},
     "output_type": "execute_result"
    }
   ],
   "source": [
    "list(simple_recommender('The Avengers'))[:5]"
   ]
  },
  {
   "cell_type": "markdown",
   "id": "2ec58933",
   "metadata": {},
   "source": [
    "## Μέρος 3: Recommendation System με βάση τις προτιμήσεις - Αξιολογήσεις του χρήστη"
   ]
  },
  {
   "cell_type": "code",
   "execution_count": 8,
   "id": "3f4cdb97",
   "metadata": {},
   "outputs": [],
   "source": [
    "from tqdm.notebook import tqdm\n",
    "from sklearn.metrics import precision_score, recall_score, f1_score\n",
    "import numpy as np\n",
    "import random\n",
    "\n",
    "rating_weights = {0: -1, 1: -0.5, 2:0, 3:0, 4:0.5, 5:1}\n",
    "score_weights = {i:i + 1 for i in range(3)} # 3 επειδή η κλίμακα new_similar εχει 3 σκαλιά\n",
    "\n",
    "def train_recommender(ratings, rating_weights, score_weights, number_of_movies = 10):\n",
    "    \"\"\"\n",
    "    Στην συνάρτηση αυτή μπορούμε να ορίζουμε ποιο υποσύνολο των αξιολογήσεων θα χρησιμοποιήσουμε για το train μαζί με τα βάρη ομοιότητας και σκορ\n",
    "    Σε συνδυασμό με τον αριθμό των ταινιών που θέλουμε να χρησιμοποιήσουμε σαν σύνολο δεδομένων π.χ. 10 από τις 100 ή 3 από τις 100 κ.ο.κ\n",
    "    Αν θέλουμε να χρησιμοποιήσουμε όλες τις ταινίες σαν training set τότε ορίζουμε το number_of_movies = - 1\n",
    "    \"\"\"\n",
    "\n",
    "    if number_of_movies > len(ratings):\n",
    "        number_of_movies = len(ratings)\n",
    "\n",
    "\n",
    "    if number_of_movies != -1:\n",
    "        indexes = random.sample(range(len(ratings)), number_of_movies)\n",
    "        ratings = ratings.iloc[indexes]\n",
    "\n",
    "    movie_score = {}\n",
    "    for row in tqdm(ratings.itertuples(index=True, name='Pandas')):\n",
    "        movie = clean_text(getattr(row, 'movie_title'))\n",
    "        rating = getattr(row, 'rating')\n",
    "\n",
    "        \n",
    "        for i in range(3): # Επειδή η κλίμακα new_similar έχει 3 σκαλιά\n",
    "            similar_movies = simple_recommender(movie, scale=i+1)\n",
    "            for similar_movie in similar_movies:\n",
    "                if similar_movie not in movie_score:\n",
    "                    movie_score[similar_movie] = rating_weights[int(rating)] * score_weights[i]\n",
    "                else:\n",
    "                    movie_score[similar_movie] += rating_weights[int(rating)] * score_weights[i] #το weight θα το ορίσετε ανα επίπεδο ομοιότητας οι πολύ όμοιες ταινίες θα έχουν μεγαλύτερο βάρος\n",
    "    return movie_score\n",
    "\n",
    "\n",
    "#αυτό είναι ένα παράδειγμα για το πως θα μπορούσε να υλοποιήθει η predict\n",
    "#έχουμε ορίσει ότι μια ταινία θα έπρεπε να είναι προτεινόμενη αν είχε σκορ > 0\n",
    "def predict_example(ratings, movie_score):\n",
    "    real, pred = [], []\n",
    "    for i, row in enumerate(ratings.itertuples(index=True, name='Pandas')):\n",
    "        movie = clean_text(getattr(row, 'movie_title'))\n",
    "        rating = getattr(row, 'rating')\n",
    "\n",
    "        if movie in movie_score: #αν έχουμε σχηματίσει βαθμολογία για την ταινία αυτή\n",
    "            pred.append(int(movie_score[movie] > 0)) #heuristic για το αν μια ταινία είναι προτεινόμενη\n",
    "            real.append(int(rating > 3))# έτσι ορίζουμε ότι μια ταινία θα έπρεπε να είναι προτεινόμενη\n",
    "            #η συνθήκη αυτή δεν μπορεί να αλλάξει\n",
    "        else: #δεν μπορούμε να προτείνουμε κάτι για το όποιο δεν έχουμε σχηματίσει εικόνα\n",
    "            pred.append(0)\n",
    "            real.append(int(rating > 3))\n",
    "\n",
    "    return real, pred\n",
    "\n",
    "\n",
    "def get_metrics(real, pred):\n",
    "    metrics = {}\n",
    "    metrics[\"precision\"] = precision_score(real, pred)\n",
    "    metrics[\"recall\"] = recall_score(real, pred)\n",
    "    metrics[\"f1\"] = f1_score(real, pred)\n",
    "    return metrics"
   ]
  },
  {
   "cell_type": "code",
   "execution_count": 9,
   "id": "ef98a289",
   "metadata": {},
   "outputs": [],
   "source": [
    "train_ratings = pd.read_csv(\"train_ratings.csv\")\n",
    "test_ratings = pd.read_csv(\"test_ratings.csv\")"
   ]
  },
  {
   "cell_type": "code",
   "execution_count": 10,
   "id": "b6a42282",
   "metadata": {},
   "outputs": [
    {
     "data": {
      "application/vnd.jupyter.widget-view+json": {
       "model_id": "18f7177d3f294f7f8b5a4bc017d0df83",
       "version_major": 2,
       "version_minor": 0
      },
      "text/plain": [
       "0it [00:00, ?it/s]"
      ]
     },
     "metadata": {},
     "output_type": "display_data"
    },
    {
     "data": {
      "application/vnd.jupyter.widget-view+json": {
       "model_id": "1ed79a4a18eb498fade32b4b30294091",
       "version_major": 2,
       "version_minor": 0
      },
      "text/plain": [
       "0it [00:00, ?it/s]"
      ]
     },
     "metadata": {},
     "output_type": "display_data"
    },
    {
     "data": {
      "application/vnd.jupyter.widget-view+json": {
       "model_id": "d5439a9424cb444ea2f0638109ccf4c4",
       "version_major": 2,
       "version_minor": 0
      },
      "text/plain": [
       "0it [00:00, ?it/s]"
      ]
     },
     "metadata": {},
     "output_type": "display_data"
    },
    {
     "data": {
      "application/vnd.jupyter.widget-view+json": {
       "model_id": "88d6718d04194f79aa963cb9c42288f2",
       "version_major": 2,
       "version_minor": 0
      },
      "text/plain": [
       "0it [00:00, ?it/s]"
      ]
     },
     "metadata": {},
     "output_type": "display_data"
    },
    {
     "data": {
      "application/vnd.jupyter.widget-view+json": {
       "model_id": "1dc91e51d7014f6c87f3c571174ae063",
       "version_major": 2,
       "version_minor": 0
      },
      "text/plain": [
       "0it [00:00, ?it/s]"
      ]
     },
     "metadata": {},
     "output_type": "display_data"
    },
    {
     "data": {
      "application/vnd.jupyter.widget-view+json": {
       "model_id": "d80deb0e4d184ba8bf537ad5c5656115",
       "version_major": 2,
       "version_minor": 0
      },
      "text/plain": [
       "0it [00:00, ?it/s]"
      ]
     },
     "metadata": {},
     "output_type": "display_data"
    },
    {
     "data": {
      "application/vnd.jupyter.widget-view+json": {
       "model_id": "349dec35d52740bbabc497684a73edb2",
       "version_major": 2,
       "version_minor": 0
      },
      "text/plain": [
       "0it [00:00, ?it/s]"
      ]
     },
     "metadata": {},
     "output_type": "display_data"
    },
    {
     "data": {
      "application/vnd.jupyter.widget-view+json": {
       "model_id": "93cf1b6b6a1c47799575a4dba6500152",
       "version_major": 2,
       "version_minor": 0
      },
      "text/plain": [
       "0it [00:00, ?it/s]"
      ]
     },
     "metadata": {},
     "output_type": "display_data"
    },
    {
     "data": {
      "application/vnd.jupyter.widget-view+json": {
       "model_id": "faa27b84df2d4ac7aa7ba79de9bcba67",
       "version_major": 2,
       "version_minor": 0
      },
      "text/plain": [
       "0it [00:00, ?it/s]"
      ]
     },
     "metadata": {},
     "output_type": "display_data"
    },
    {
     "data": {
      "application/vnd.jupyter.widget-view+json": {
       "model_id": "6b0a9fef84874db1a54e9b4993e6a2dc",
       "version_major": 2,
       "version_minor": 0
      },
      "text/plain": [
       "0it [00:00, ?it/s]"
      ]
     },
     "metadata": {},
     "output_type": "display_data"
    },
    {
     "name": "stdout",
     "output_type": "stream",
     "text": [
      "precision: 0.5353745345702825\n",
      "recall: 0.6472222222222224\n",
      "f1: 0.5751499079514727\n"
     ]
    }
   ],
   "source": [
    "prolog.consult(\"meros1.pl\")\n",
    "prolog.consult(\"meros2.pl\")\n",
    "\n",
    "metrics = []\n",
    "for i in range (10):\n",
    "    movie_score = train_recommender(train_ratings, rating_weights, score_weights, 10)\n",
    "    real, pred = predict_example(test_ratings, movie_score)\n",
    "    metrics.append(get_metrics(real, pred))\n",
    "\n",
    "for metric in metrics[0].keys():\n",
    "    print (f\"{metric}: {np.mean([m[metric] for m in metrics])}\")"
   ]
  },
  {
   "cell_type": "code",
   "execution_count": 11,
   "id": "53b12e63",
   "metadata": {},
   "outputs": [
    {
     "data": {
      "text/plain": [
       "Text(0.5, 1.0, 'Μετρικές του Recommendation System')"
      ]
     },
     "execution_count": 11,
     "metadata": {},
     "output_type": "execute_result"
    },
    {
     "data": {
      "image/png": "[encoded data removed]",
      "text/plain": [
       "<Figure size 432x288 with 1 Axes>"
      ]
     },
     "metadata": {
      "needs_background": "light"
     },
     "output_type": "display_data"
    }
   ],
   "source": [
    "# Καταγράφουμε τα αποτελέσματα που πήραμε και τα σχεδιάζουμε σε γραφική παράσταση\n",
    "import matplotlib.pyplot as plt\n",
    "no_of_movies = [1, 2, 4, 5, 8, 10]\n",
    "precision = [0.271, 0.494, 0.4824, 0.479, 0.524, 0.528]\n",
    "recall = [0.168, 0.419, 0.401, 0.569, 0.746, 0.735]\n",
    "f1 = [0.190, 0.391, 0.385, 0.497, 0.614, 0.614]\n",
    "\n",
    "plt.plot(no_of_movies, precision) # Μπλε\n",
    "plt.plot(no_of_movies, recall) # Πορτοκαλί\n",
    "plt.plot(no_of_movies, f1) # Πράσινο\n",
    "\n",
    "plt.ylim(0, 1)\n",
    "plt.xlabel(\"Αριθμός ταινιών για την εκπαίδευση\")\n",
    "plt.ylabel(\"Ποσοστό από το 0 έως το 1\")\n",
    "plt.legend([\"Precision\", \"Recall\", \"F1\"])\n",
    "plt.title(\"Μετρικές του Recommendation System\")"
   ]
  },
  {
   "cell_type": "markdown",
   "id": "6a6764c6",
   "metadata": {},
   "source": [
    "## Σχολιασμός 3ου μέρους\n",
    "Η μετρική precision υπολογίζεται από τον λόγο των στιγμιότυπων που όντως αντιστοιχούν στην κλάση ως προς τον συνολικό αριθμό των στιγμιότυπων που προβλέψαμε. Στο σύστημά μας το precision τέινει περίπου στο 0.55 που είναι σχετικά χαμηλό. To recall, δηλαδή το ποσοστό των στιγμιοτύπων που προβλέψαμε σωστά, είναι υψηλότερο (περίπου 0.75). Το F1 βρίσκεται ανάμεσα σε αυτές τις δύο τιμές. Επίσης, ακόμη και υπολογίζοντας τον μέσο όρο 10 προσπαθειών, βλέπουμε διακύμανση στις τιμές που υπολογίζονται (περίπου +-0.1).\n",
    "\n",
    "Ένα θετικό στοιχείο είναι ότι φτάνουμε τις τιμές αυτές με έναν σχετικά χαμηλό ταινιών (περίπου 8), οπότε το σύστημα θα ήταν καλύτερο σε μια ιστοσελίδα με καινούριους χρήστες που δεν έχουν δει πολλές ταινίες.\n",
    "\n",
    "Δεν μπορέσαμε να δοκιμάσουμε μεγαλύτερο αριθμό ταινιών επειδή έπαιρνε πολύ χρόνο (στον δικό μας υπολογιστή που είναι σχετικά παλιός)."
   ]
  }
 ],
 "metadata": {
  "kernelspec": {
   "display_name": "Python 3 (ipykernel)",
   "language": "python",
   "name": "python3"
  },
  "language_info": {
   "codemirror_mode": {
    "name": "ipython",
    "version": 3
   },
   "file_extension": ".py",
   "mimetype": "text/x-python",
   "name": "python",
   "nbconvert_exporter": "python",
   "pygments_lexer": "ipython3",
   "version": "3.10.0"
  }
 },
 "nbformat": 4,
 "nbformat_minor": 5
}
